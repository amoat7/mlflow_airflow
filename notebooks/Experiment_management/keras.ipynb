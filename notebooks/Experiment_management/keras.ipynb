{
 "cells": [
  {
   "cell_type": "code",
   "execution_count": 3,
   "metadata": {},
   "outputs": [],
   "source": [
    "import pandas as pd\n",
    "import numpy as np \n",
    "import mlflow\n",
    "import tensorflow\n",
    "from tensorflow import keras\n",
    "import mlflow.keras \n",
    "from sklearn.metrics import f1_score, confusion_matrix\n",
    "from sklearn.model_selection import train_test_split\n",
    "\n",
    "df = pd.read_csv(\"../../data/training_data/training_data.csv\")\n",
    "df.head()\n",
    "\n",
    "df = df.astype(np.float32)\n",
    "X = df.iloc[:,:-1]\n",
    "Y = df.iloc[:,-1]\n",
    "X_train, X_test, y_train, y_test = train_test_split(X,Y, test_size=0.33,\n",
    "                                                    random_state=4284, stratify=Y)"
   ]
  },
  {
   "cell_type": "code",
   "execution_count": 4,
   "metadata": {},
   "outputs": [],
   "source": [
    "mlflow.set_experiment(\"Baseline_Predictions\")\n",
    "mlflow.tensorflow.autolog()"
   ]
  },
  {
   "cell_type": "code",
   "execution_count": 5,
   "metadata": {},
   "outputs": [
    {
     "name": "stderr",
     "output_type": "stream",
     "text": [
      "/opt/conda/lib/python3.8/site-packages/tensorflow/python/keras/optimizer_v2/optimizer_v2.py:374: UserWarning: The `lr` argument is deprecated, use `learning_rate` instead.\n",
      "  warnings.warn(\n"
     ]
    },
    {
     "name": "stdout",
     "output_type": "stream",
     "text": [
      "Epoch 1/20\n",
      " 1/46 [..............................] - ETA: 19s - loss: 0.6728 - accuracy: 0.0000e+00WARNING:tensorflow:Callback method `on_train_batch_end` is slow compared to the batch time (batch time: 0.0008s vs `on_train_batch_end` time: 0.0034s). Check your callbacks.\n",
      "46/46 [==============================] - 1s 5ms/step - loss: 0.8657 - accuracy: 0.0000e+00 - val_loss: 0.7142 - val_accuracy: 0.0000e+00\n",
      "Epoch 2/20\n",
      "46/46 [==============================] - 0s 1ms/step - loss: 0.8048 - accuracy: 0.0000e+00 - val_loss: 0.7055 - val_accuracy: 0.0000e+00\n",
      "Epoch 3/20\n",
      "46/46 [==============================] - 0s 1ms/step - loss: 0.7730 - accuracy: 0.0000e+00 - val_loss: 0.7006 - val_accuracy: 0.0000e+00\n",
      "Epoch 4/20\n",
      "46/46 [==============================] - 0s 1ms/step - loss: 0.7526 - accuracy: 0.0000e+00 - val_loss: 0.6966 - val_accuracy: 0.0000e+00\n",
      "Epoch 5/20\n",
      "46/46 [==============================] - 0s 1ms/step - loss: 0.7309 - accuracy: 0.0000e+00 - val_loss: 0.6939 - val_accuracy: 0.0000e+00\n",
      "Epoch 6/20\n",
      "46/46 [==============================] - 0s 1ms/step - loss: 0.7187 - accuracy: 0.0000e+00 - val_loss: 0.6926 - val_accuracy: 0.0000e+00\n",
      "Epoch 7/20\n",
      "46/46 [==============================] - 0s 1ms/step - loss: 0.7072 - accuracy: 0.0000e+00 - val_loss: 0.6898 - val_accuracy: 0.0000e+00\n",
      "Epoch 8/20\n",
      "46/46 [==============================] - 0s 1ms/step - loss: 0.7055 - accuracy: 0.0000e+00 - val_loss: 0.6907 - val_accuracy: 0.0000e+00\n",
      "Epoch 9/20\n",
      "46/46 [==============================] - 0s 1ms/step - loss: 0.7022 - accuracy: 0.0000e+00 - val_loss: 0.6887 - val_accuracy: 0.0000e+00\n",
      "Epoch 10/20\n",
      "46/46 [==============================] - 0s 1ms/step - loss: 0.6922 - accuracy: 0.0000e+00 - val_loss: 0.6865 - val_accuracy: 0.0000e+00\n",
      "Epoch 11/20\n",
      "46/46 [==============================] - 0s 1ms/step - loss: 0.6873 - accuracy: 0.0000e+00 - val_loss: 0.6847 - val_accuracy: 0.0000e+00\n",
      "Epoch 12/20\n",
      "46/46 [==============================] - 0s 1ms/step - loss: 0.6899 - accuracy: 0.0000e+00 - val_loss: 0.6834 - val_accuracy: 0.0000e+00\n",
      "Epoch 13/20\n",
      "46/46 [==============================] - 0s 1ms/step - loss: 0.6847 - accuracy: 0.0000e+00 - val_loss: 0.6855 - val_accuracy: 0.0000e+00\n",
      "Epoch 14/20\n",
      "46/46 [==============================] - 0s 1ms/step - loss: 0.6820 - accuracy: 0.0000e+00 - val_loss: 0.6845 - val_accuracy: 0.0000e+00\n",
      "Epoch 15/20\n",
      "46/46 [==============================] - 0s 1ms/step - loss: 0.6779 - accuracy: 0.0000e+00 - val_loss: 0.6855 - val_accuracy: 0.0000e+00\n",
      "Epoch 16/20\n",
      "46/46 [==============================] - 0s 1ms/step - loss: 0.6815 - accuracy: 0.0000e+00 - val_loss: 0.6854 - val_accuracy: 0.0000e+00\n",
      "Epoch 17/20\n",
      "46/46 [==============================] - 0s 1ms/step - loss: 0.6767 - accuracy: 0.0000e+00 - val_loss: 0.6867 - val_accuracy: 0.0000e+00\n",
      "Epoch 18/20\n",
      "46/46 [==============================] - 0s 1ms/step - loss: 0.6756 - accuracy: 0.0000e+00 - val_loss: 0.6902 - val_accuracy: 0.0000e+00\n",
      "Epoch 19/20\n",
      "46/46 [==============================] - 0s 1ms/step - loss: 0.6772 - accuracy: 0.0000e+00 - val_loss: 0.6939 - val_accuracy: 0.0000e+00\n",
      "Epoch 20/20\n",
      "46/46 [==============================] - 0s 1ms/step - loss: 0.6746 - accuracy: 0.0000e+00 - val_loss: 0.6931 - val_accuracy: 0.0000e+00\n",
      "INFO:tensorflow:Assets written to: /tmp/tmp61hi2bth/model/data/model/assets\n"
     ]
    }
   ],
   "source": [
    "input_ = keras.layers.Input(shape=X_train.shape[-1])\n",
    "layer1 = keras.layers.Dense(units=10, activation='relu')(input_)\n",
    "norm = keras.layers.BatchNormalization()(layer1)\n",
    "output = keras.layers.Dense(units=1, activation='sigmoid')(norm)\n",
    "model= keras.Model(input_, output)\n",
    "model.compile(optimizer=keras.optimizers.Adam(lr=0.001),\n",
    "             loss=\"binary_crossentropy\",\n",
    "             metrics=\"Accuracy\")\n",
    "with mlflow.start_run(run_name='keras_model_baseline') as run:\n",
    "    model.fit(\n",
    "        X_train,\n",
    "        y_train,\n",
    "        epochs=20,\n",
    "        validation_split=0.05,\n",
    "        shuffle=True\n",
    "    )\n",
    "    preds = model.predict(X_test)\n",
    "    y_pred = np.where(preds>0.5,1,0)\n",
    "    f1 = f1_score(y_test, y_pred)\n",
    "    mlflow.log_metric(key=\"f1_experiment_score\", value=f1)"
   ]
  },
  {
   "cell_type": "code",
   "execution_count": null,
   "metadata": {},
   "outputs": [],
   "source": []
  },
  {
   "cell_type": "code",
   "execution_count": null,
   "metadata": {},
   "outputs": [],
   "source": []
  }
 ],
 "metadata": {
  "kernelspec": {
   "display_name": "Python 3",
   "language": "python",
   "name": "python3"
  },
  "language_info": {
   "codemirror_mode": {
    "name": "ipython",
    "version": 3
   },
   "file_extension": ".py",
   "mimetype": "text/x-python",
   "name": "python",
   "nbconvert_exporter": "python",
   "pygments_lexer": "ipython3",
   "version": "3.8.5"
  }
 },
 "nbformat": 4,
 "nbformat_minor": 4
}
