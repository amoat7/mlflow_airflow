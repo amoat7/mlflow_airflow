{
 "cells": [
  {
   "cell_type": "code",
   "execution_count": 1,
   "metadata": {},
   "outputs": [],
   "source": [
    "import pandas as pd\n",
    "import numpy as np \n",
    "import mlflow\n",
    "import tensorflow\n",
    "from tensorflow import keras\n",
    "import mlflow.keras \n",
    "from sklearn.metrics import f1_score, confusion_matrix\n",
    "from sklearn.model_selection import train_test_split\n",
    "\n",
    "df = pd.read_csv(\"../data/training_data/training_data.csv\")\n",
    "df.head()\n",
    "\n",
    "df = df.astype(np.float32)\n",
    "X = df.iloc[:,:-1]\n",
    "Y = df.iloc[:,-1]\n",
    "X_train, X_test, y_train, y_test = train_test_split(X,Y, test_size=0.33,\n",
    "                                                    random_state=4284, stratify=Y)"
   ]
  },
  {
   "cell_type": "code",
   "execution_count": 2,
   "metadata": {},
   "outputs": [],
   "source": [
    "mlflow.set_experiment(\"Baseline_Predictions\")\n",
    "mlflow.tensorflow.autolog()"
   ]
  },
  {
   "cell_type": "code",
   "execution_count": 9,
   "metadata": {},
   "outputs": [],
   "source": [
    "input_ = keras.layers.Input(shape=X_train.shape[-1])\n",
    "layer1 = keras.layers.Dense(units=36, activation='relu')(input_)\n",
    "norm = keras.layers.BatchNormalization()(layer1)\n",
    "output = keras.layers.Dense(units=1, activation='sigmoid')(norm)\n",
    "model= keras.Model(input_, output)\n",
    "model.compile(optimizer=keras.optimizers.Adam(lr=0.001),\n",
    "             loss=\"binary_crossentropy\",\n",
    "             metrics=\"Accuracy\")\n",
    "with mlflow.start_run(run_name='keras_model_baseline') as run:\n",
    "    model.fit(\n",
    "        X_train,\n",
    "        y_train,\n",
    "        epochs=20,\n",
    "        validation_split=0.05,\n",
    "        shuffle=True\n",
    "    )\n",
    "    preds = model.predict(X_test)\n",
    "    y_pred = np.where(preds>0.5,1,0)\n",
    "    f1 = f1_score(y_test, y_pred)\n",
    "    mlflow.log_metric(key=\"f1_experiment_score\", value=f1)"
   ]
  },
  {
   "cell_type": "code",
   "execution_count": null,
   "metadata": {},
   "outputs": [],
   "source": []
  }
 ],
 "metadata": {
  "kernelspec": {
   "display_name": "Python 3",
   "language": "python",
   "name": "python3"
  },
  "language_info": {
   "codemirror_mode": {
    "name": "ipython",
    "version": 3
   },
   "file_extension": ".py",
   "mimetype": "text/x-python",
   "name": "python",
   "nbconvert_exporter": "python",
   "pygments_lexer": "ipython3",
   "version": "3.8.5"
  }
 },
 "nbformat": 4,
 "nbformat_minor": 4
}
