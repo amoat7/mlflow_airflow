{
 "cells": [
  {
   "cell_type": "code",
   "execution_count": 1,
   "metadata": {},
   "outputs": [],
   "source": [
    "import pandas as pd\n",
    "import numpy as np \n",
    "import mlflow\n",
    "import tensorflow\n",
    "from tensorflow import keras\n",
    "import mlflow.keras \n",
    "from sklearn.metrics import f1_score, confusion_matrix\n",
    "from sklearn.model_selection import train_test_split\n",
    "\n",
    "df = pd.read_csv(\"../../data/training_data/training_data.csv\")\n",
    "df.head()\n",
    "\n",
    "df = df.astype(np.float32)\n",
    "X = df.iloc[:,:-1]\n",
    "Y = df.iloc[:,-1]\n",
    "X_train, X_test, y_train, y_test = train_test_split(X,Y, test_size=0.33,\n",
    "                                                    random_state=4284, stratify=Y)"
   ]
  },
  {
   "cell_type": "code",
   "execution_count": 3,
   "metadata": {},
   "outputs": [
    {
     "name": "stdout",
     "output_type": "stream",
     "text": [
      "INFO: 'Baseline_Predictions_MLflow_Check' does not exist. Creating a new experiment\n"
     ]
    },
    {
     "name": "stderr",
     "output_type": "stream",
     "text": [
      "/opt/conda/lib/python3.8/site-packages/tensorflow/python/keras/optimizer_v2/optimizer_v2.py:374: UserWarning: The `lr` argument is deprecated, use `learning_rate` instead.\n",
      "  warnings.warn(\n"
     ]
    },
    {
     "name": "stdout",
     "output_type": "stream",
     "text": [
      "Epoch 1/20\n",
      " 3/46 [>.............................] - ETA: 1s - loss: 0.7821 - accuracy: 0.0000e+00 WARNING:tensorflow:Callback method `on_train_batch_end` is slow compared to the batch time (batch time: 0.0029s vs `on_train_batch_end` time: 0.0130s). Check your callbacks.\n",
      "46/46 [==============================] - 1s 6ms/step - loss: 0.8197 - accuracy: 0.0000e+00 - val_loss: 0.7130 - val_accuracy: 0.0000e+00\n",
      "Epoch 2/20\n",
      "46/46 [==============================] - 0s 1ms/step - loss: 0.7662 - accuracy: 0.0000e+00 - val_loss: 0.6954 - val_accuracy: 0.0000e+00\n",
      "Epoch 3/20\n",
      "46/46 [==============================] - 0s 1ms/step - loss: 0.7317 - accuracy: 0.0000e+00 - val_loss: 0.6904 - val_accuracy: 0.0000e+00\n",
      "Epoch 4/20\n",
      "46/46 [==============================] - 0s 1ms/step - loss: 0.7200 - accuracy: 0.0000e+00 - val_loss: 0.6915 - val_accuracy: 0.0000e+00\n",
      "Epoch 5/20\n",
      "46/46 [==============================] - 0s 1ms/step - loss: 0.7073 - accuracy: 0.0000e+00 - val_loss: 0.6961 - val_accuracy: 0.0000e+00\n",
      "Epoch 6/20\n",
      "46/46 [==============================] - 0s 1ms/step - loss: 0.7002 - accuracy: 0.0000e+00 - val_loss: 0.7013 - val_accuracy: 0.0000e+00\n",
      "Epoch 7/20\n",
      "46/46 [==============================] - 0s 1ms/step - loss: 0.6953 - accuracy: 0.0000e+00 - val_loss: 0.7025 - val_accuracy: 0.0000e+00\n",
      "Epoch 8/20\n",
      "46/46 [==============================] - 0s 1ms/step - loss: 0.6890 - accuracy: 0.0000e+00 - val_loss: 0.7026 - val_accuracy: 0.0000e+00\n",
      "Epoch 9/20\n",
      "46/46 [==============================] - 0s 1ms/step - loss: 0.6848 - accuracy: 0.0000e+00 - val_loss: 0.7040 - val_accuracy: 0.0000e+00\n",
      "Epoch 10/20\n",
      "46/46 [==============================] - 0s 1ms/step - loss: 0.6858 - accuracy: 0.0000e+00 - val_loss: 0.7059 - val_accuracy: 0.0000e+00\n",
      "Epoch 11/20\n",
      "46/46 [==============================] - 0s 1ms/step - loss: 0.6797 - accuracy: 0.0000e+00 - val_loss: 0.7076 - val_accuracy: 0.0000e+00\n",
      "Epoch 12/20\n",
      "46/46 [==============================] - 0s 1ms/step - loss: 0.6813 - accuracy: 0.0000e+00 - val_loss: 0.7115 - val_accuracy: 0.0000e+00\n",
      "Epoch 13/20\n",
      "46/46 [==============================] - 0s 1ms/step - loss: 0.6811 - accuracy: 0.0000e+00 - val_loss: 0.7086 - val_accuracy: 0.0000e+00\n",
      "Epoch 14/20\n",
      "46/46 [==============================] - 0s 1ms/step - loss: 0.6779 - accuracy: 0.0000e+00 - val_loss: 0.7136 - val_accuracy: 0.0000e+00\n",
      "Epoch 15/20\n",
      "46/46 [==============================] - 0s 1ms/step - loss: 0.6807 - accuracy: 0.0000e+00 - val_loss: 0.7139 - val_accuracy: 0.0000e+00\n",
      "Epoch 16/20\n",
      "46/46 [==============================] - 0s 1ms/step - loss: 0.6739 - accuracy: 0.0000e+00 - val_loss: 0.7112 - val_accuracy: 0.0000e+00\n",
      "Epoch 17/20\n",
      "46/46 [==============================] - 0s 1ms/step - loss: 0.6760 - accuracy: 0.0000e+00 - val_loss: 0.7101 - val_accuracy: 0.0000e+00\n",
      "Epoch 18/20\n",
      "46/46 [==============================] - 0s 1ms/step - loss: 0.6757 - accuracy: 0.0000e+00 - val_loss: 0.7093 - val_accuracy: 0.0000e+00\n",
      "Epoch 19/20\n",
      "46/46 [==============================] - 0s 1ms/step - loss: 0.6750 - accuracy: 0.0000e+00 - val_loss: 0.7129 - val_accuracy: 0.0000e+00\n",
      "Epoch 20/20\n",
      "46/46 [==============================] - 0s 1ms/step - loss: 0.6752 - accuracy: 0.0000e+00 - val_loss: 0.7120 - val_accuracy: 0.0000e+00\n",
      "INFO:tensorflow:Assets written to: /tmp/tmp5gl15x0x/model/data/model/assets\n"
     ]
    }
   ],
   "source": [
    "mlflow.set_experiment(\"Baseline_Predictions_MLflow_Check\")\n",
    "mlflow.tensorflow.autolog()\n",
    "input_ = keras.layers.Input(shape=X_train.shape[-1])\n",
    "layer1 = keras.layers.Dense(units=10, activation='relu')(input_)\n",
    "norm = keras.layers.BatchNormalization()(layer1)\n",
    "output = keras.layers.Dense(units=1, activation='sigmoid')(norm)\n",
    "model= keras.Model(input_, output)\n",
    "model.compile(optimizer=keras.optimizers.Adam(lr=0.001),\n",
    "             loss=\"binary_crossentropy\",\n",
    "             metrics=\"Accuracy\")\n",
    "with mlflow.start_run(run_name='keras_model_baseline') as run:\n",
    "    model.fit(\n",
    "        X_train,\n",
    "        y_train,\n",
    "        epochs=20,\n",
    "        validation_split=0.05,\n",
    "        shuffle=True\n",
    "    )\n"
   ]
  },
  {
   "cell_type": "markdown",
   "metadata": {},
   "source": [
    "## Load the model for prediction"
   ]
  },
  {
   "cell_type": "code",
   "execution_count": 4,
   "metadata": {},
   "outputs": [
    {
     "name": "stderr",
     "output_type": "stream",
     "text": [
      "/opt/conda/lib/python3.8/site-packages/tensorflow/python/keras/backend.py:435: UserWarning: `tf.keras.backend.set_learning_phase` is deprecated and will be removed after 2020-10-11. To update it, simply pass a True/False value to the `training` argument of the `__call__` method of your layer or model.\n",
      "  warnings.warn('`tf.keras.backend.set_learning_phase` is deprecated and '\n"
     ]
    },
    {
     "data": {
      "text/html": [
       "<div>\n",
       "<style scoped>\n",
       "    .dataframe tbody tr th:only-of-type {\n",
       "        vertical-align: middle;\n",
       "    }\n",
       "\n",
       "    .dataframe tbody tr th {\n",
       "        vertical-align: top;\n",
       "    }\n",
       "\n",
       "    .dataframe thead th {\n",
       "        text-align: right;\n",
       "    }\n",
       "</style>\n",
       "<table border=\"1\" class=\"dataframe\">\n",
       "  <thead>\n",
       "    <tr style=\"text-align: right;\">\n",
       "      <th></th>\n",
       "      <th>0</th>\n",
       "    </tr>\n",
       "  </thead>\n",
       "  <tbody>\n",
       "    <tr>\n",
       "      <th>874</th>\n",
       "      <td>0.382366</td>\n",
       "    </tr>\n",
       "    <tr>\n",
       "      <th>1151</th>\n",
       "      <td>0.638954</td>\n",
       "    </tr>\n",
       "    <tr>\n",
       "      <th>912</th>\n",
       "      <td>0.563962</td>\n",
       "    </tr>\n",
       "    <tr>\n",
       "      <th>2071</th>\n",
       "      <td>0.589712</td>\n",
       "    </tr>\n",
       "    <tr>\n",
       "      <th>985</th>\n",
       "      <td>0.589581</td>\n",
       "    </tr>\n",
       "    <tr>\n",
       "      <th>...</th>\n",
       "      <td>...</td>\n",
       "    </tr>\n",
       "    <tr>\n",
       "      <th>2222</th>\n",
       "      <td>0.615050</td>\n",
       "    </tr>\n",
       "    <tr>\n",
       "      <th>524</th>\n",
       "      <td>0.629220</td>\n",
       "    </tr>\n",
       "    <tr>\n",
       "      <th>2012</th>\n",
       "      <td>0.535705</td>\n",
       "    </tr>\n",
       "    <tr>\n",
       "      <th>119</th>\n",
       "      <td>0.809855</td>\n",
       "    </tr>\n",
       "    <tr>\n",
       "      <th>559</th>\n",
       "      <td>0.438946</td>\n",
       "    </tr>\n",
       "  </tbody>\n",
       "</table>\n",
       "<p>753 rows × 1 columns</p>\n",
       "</div>"
      ],
      "text/plain": [
       "             0\n",
       "874   0.382366\n",
       "1151  0.638954\n",
       "912   0.563962\n",
       "2071  0.589712\n",
       "985   0.589581\n",
       "...        ...\n",
       "2222  0.615050\n",
       "524   0.629220\n",
       "2012  0.535705\n",
       "119   0.809855\n",
       "559   0.438946\n",
       "\n",
       "[753 rows x 1 columns]"
      ]
     },
     "execution_count": 4,
     "metadata": {},
     "output_type": "execute_result"
    }
   ],
   "source": [
    "import mlflow \n",
    "logged_model = \"/data/artifacts/4/3a2972e76a354feeb9a43c962c8336f7/artifacts/model\"\n",
    "\n",
    "# Load the model as a pyfunc model\n",
    "loaded_model = mlflow.pyfunc.load_model(logged_model)\n",
    "\n",
    "# Predict on a pandas dataframe\n",
    "loaded_model.predict(X_test)"
   ]
  },
  {
   "cell_type": "code",
   "execution_count": null,
   "metadata": {},
   "outputs": [],
   "source": []
  },
  {
   "cell_type": "code",
   "execution_count": null,
   "metadata": {},
   "outputs": [],
   "source": []
  }
 ],
 "metadata": {
  "kernelspec": {
   "display_name": "Python 3",
   "language": "python",
   "name": "python3"
  },
  "language_info": {
   "codemirror_mode": {
    "name": "ipython",
    "version": 3
   },
   "file_extension": ".py",
   "mimetype": "text/x-python",
   "name": "python",
   "nbconvert_exporter": "python",
   "pygments_lexer": "ipython3",
   "version": "3.8.5"
  }
 },
 "nbformat": 4,
 "nbformat_minor": 4
}
